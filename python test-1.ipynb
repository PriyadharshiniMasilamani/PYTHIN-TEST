{
 "cells": [
  {
   "cell_type": "markdown",
   "id": "5d0fa9b3",
   "metadata": {},
   "source": [
    "<h3>1.segregate the comments</h3>"
   ]
  },
  {
   "cell_type": "code",
   "execution_count": 11,
   "id": "3f9a4a39",
   "metadata": {},
   "outputs": [
    {
     "name": "stdout",
     "output_type": "stream",
     "text": [
      "1. He is the good boy - good - positive comment\n",
      "2. Food is the worst here - worst - negative comment\n",
      "3. He is an awesome player - awesome - positive comment\n",
      "4. She is the best - best - positive comment\n",
      "5. This pizza tastes awful - awful - negative comment\n",
      "6. These burger are really nice - nice - positive comment\n"
     ]
    }
   ],
   "source": [
    "positive=['good','awesome','best','nice']\n",
    "negative=['worst','awful']\n",
    "comments=['He is the good boy','Food is the worst here','He is an awesome player','She is the best','This pizza tastes awful','These burger are really nice']\n",
    "comment_1=comments[0]+\" - \"+positive[0]+\" - positive comment\"\n",
    "comment_2=comments[1]+\" - \"+negative[0]+\" - negative comment\"\n",
    "comment_3=comments[2]+\" - \"+positive[1]+\" - positive comment\"\n",
    "comment_4=comments[3]+\" - \"+positive[2]+\" - positive comment\"\n",
    "comment_5=comments[4]+\" - \"+negative[1]+\" - negative comment\"\n",
    "comment_6=comments[5]+\" - \"+positive[3]+\" - positive comment\"\n",
    "print(\"1.\",comment_1)\n",
    "print(\"2.\",comment_2)\n",
    "print(\"3.\",comment_3)\n",
    "print(\"4.\",comment_4)\n",
    "print(\"5.\",comment_5)\n",
    "print(\"6.\",comment_6)"
   ]
  },
  {
   "cell_type": "markdown",
   "id": "3ba87fef",
   "metadata": {},
   "source": [
    "<H3>2.output of square,cube,squareroot function</H3>"
   ]
  },
  {
   "cell_type": "code",
   "execution_count": 23,
   "id": "b5bdd1db",
   "metadata": {},
   "outputs": [
    {
     "name": "stdout",
     "output_type": "stream",
     "text": [
      "ANSWER: 254.45\n"
     ]
    }
   ],
   "source": [
    "def solve(n):\n",
    "    dict = { 'Square': lambda a : a**2, \n",
    "         'Cube': lambda a : a**3, \n",
    "         'Squareroot': lambda a : a**(1/2)}\n",
    "    result = 0\n",
    "    for k in dict.keys():\n",
    "        result += dict[k](n)\n",
    "    return result\n",
    "    \n",
    "print(\"ANSWER:\",round(solve(6),2))"
   ]
  },
  {
   "cell_type": "markdown",
   "id": "052d520d",
   "metadata": {},
   "source": [
    "<h3>3.separating sour taste items</h3>"
   ]
  },
  {
   "cell_type": "code",
   "execution_count": 34,
   "id": "abafa03d",
   "metadata": {},
   "outputs": [
    {
     "name": "stdout",
     "output_type": "stream",
     "text": [
      "SOUR TASTE= ['Lemon', 'DragonFruit', 'Grapes', 'Orange', 'Limes']\n"
     ]
    }
   ],
   "source": [
    "Fruit=(('Lemon','sour'),('DragonFruit','Sour'),('Grapes','sOur'),('Kiwi','dfsf'),(\"Apples\",\"sweet\"),(\"Orange\",\"sour\"),(\"Blueberries\",\"sweet\"),(\"Limes\",\"Sour\"))\n",
    "sour_taste=[]\n",
    "for i in Fruit:\n",
    "    if(i[1].lower()=='sour'):\n",
    "        sour_taste.append(i[0])\n",
    "    \n",
    "print(\"SOUR TASTE=\",sour_taste)"
   ]
  },
  {
   "cell_type": "markdown",
   "id": "713dccbe",
   "metadata": {},
   "source": [
    "<H3>4.printing the uppercase words </H3>"
   ]
  },
  {
   "cell_type": "code",
   "execution_count": 37,
   "id": "7c659e63",
   "metadata": {},
   "outputs": [
    {
     "name": "stdout",
     "output_type": "stream",
     "text": [
      "hOw\n",
      "ARe\n"
     ]
    }
   ],
   "source": [
    "ls = ['hello','Dear','hOw','ARe','You']\n",
    "for i in ls:\n",
    "    if(i[1].isupper()):\n",
    "        print(i)"
   ]
  },
  {
   "cell_type": "markdown",
   "id": "4a1702dd",
   "metadata": {},
   "source": [
    "<h3>5.weight on the earth of the person </h3>"
   ]
  },
  {
   "cell_type": "code",
   "execution_count": 38,
   "id": "ebf861c3",
   "metadata": {},
   "outputs": [
    {
     "name": "stdout",
     "output_type": "stream",
     "text": [
      "{'John': 7.44, 'Shelly': 10.75, 'Marry': 5.79}\n"
     ]
    }
   ],
   "source": [
    "d = {'John':45, 'Shelly':65, 'Marry':35}\n",
    "\n",
    "calc_grav = lambda x: round((x / 9.81) * 1.622, 2)\n",
    "\n",
    "calc = lambda k: (k,  calc_grav(d[k]))\n",
    "\n",
    "r  = dict(calc(k) for k in d)\n",
    "\n",
    "print(r)"
   ]
  },
  {
   "cell_type": "code",
   "execution_count": null,
   "id": "49f66089",
   "metadata": {},
   "outputs": [],
   "source": []
  },
  {
   "cell_type": "code",
   "execution_count": null,
   "id": "d7c43352",
   "metadata": {},
   "outputs": [],
   "source": []
  },
  {
   "cell_type": "markdown",
   "id": "8300a6aa",
   "metadata": {},
   "source": [
    "<h3>7.reduce function</h3>"
   ]
  },
  {
   "cell_type": "code",
   "execution_count": 32,
   "id": "1950905b",
   "metadata": {},
   "outputs": [
    {
     "name": "stdout",
     "output_type": "stream",
     "text": [
      "LIST= {8, 3}\n"
     ]
    }
   ],
   "source": [
    "given_sets =[[1,2,3,4,8],[2,3,8,5,6],[8,4,5,3,7],[6,9,8,3],[9,12,3,7,6,8,4,6,21,1,6]]\n",
    "a=[]\n",
    "b={}\n",
    "for i in given_sets:\n",
    "    l=set(i)\n",
    "    a.append(l)\n",
    "list = a[0]&a[1]&a[2]&a[3]&a[4]\n",
    "print(\"LIST=\",list)"
   ]
  },
  {
   "cell_type": "code",
   "execution_count": null,
   "id": "273fe82b",
   "metadata": {},
   "outputs": [],
   "source": []
  },
  {
   "cell_type": "code",
   "execution_count": null,
   "id": "a1ecd599",
   "metadata": {},
   "outputs": [],
   "source": []
  },
  {
   "cell_type": "markdown",
   "id": "ee30cf79",
   "metadata": {},
   "source": [
    "<h3>9.convert to uppercase using lambda and map functions</h3>"
   ]
  },
  {
   "cell_type": "code",
   "execution_count": null,
   "id": "46741648",
   "metadata": {},
   "outputs": [],
   "source": [
    "x=map(lambda x:x.upper(),[\"True\",\"FALse\",\"tRUe\",\"False\",\"false\"])\n",
    "upperlist=list(x)\n",
    "print(upperlist)\n"
   ]
  },
  {
   "cell_type": "markdown",
   "id": "ee1a128e",
   "metadata": {},
   "source": [
    "<H3>10.print only year from the given list</H3>"
   ]
  },
  {
   "cell_type": "code",
   "execution_count": 21,
   "id": "86250442",
   "metadata": {},
   "outputs": [
    {
     "name": "stdout",
     "output_type": "stream",
     "text": [
      "YEARS : ['1997', '2011', '1993', '2020']\n"
     ]
    }
   ],
   "source": [
    "datelist=['17-12-1997','22-04-2011','01-05-1993','19-06-2020']\n",
    "year=[]\n",
    "for i in datelist:\n",
    "    s=i.split(\"-\")\n",
    "    year.append(s[2])\n",
    "print(\"YEARS :\",year)"
   ]
  },
  {
   "cell_type": "code",
   "execution_count": null,
   "id": "3250ede7",
   "metadata": {},
   "outputs": [],
   "source": []
  },
  {
   "cell_type": "code",
   "execution_count": null,
   "id": "e7bb0bf9",
   "metadata": {},
   "outputs": [],
   "source": []
  },
  {
   "cell_type": "code",
   "execution_count": null,
   "id": "6f8561db",
   "metadata": {},
   "outputs": [],
   "source": []
  },
  {
   "cell_type": "code",
   "execution_count": null,
   "id": "79a49fb0",
   "metadata": {},
   "outputs": [],
   "source": []
  },
  {
   "cell_type": "code",
   "execution_count": null,
   "id": "c6bafb9b",
   "metadata": {},
   "outputs": [],
   "source": []
  },
  {
   "cell_type": "code",
   "execution_count": null,
   "id": "1d3aed18",
   "metadata": {},
   "outputs": [],
   "source": []
  },
  {
   "cell_type": "code",
   "execution_count": null,
   "id": "b6b4294b",
   "metadata": {},
   "outputs": [],
   "source": []
  },
  {
   "cell_type": "code",
   "execution_count": null,
   "id": "401aa9d2",
   "metadata": {},
   "outputs": [],
   "source": []
  },
  {
   "cell_type": "code",
   "execution_count": null,
   "id": "a73f0220",
   "metadata": {},
   "outputs": [],
   "source": []
  },
  {
   "cell_type": "code",
   "execution_count": null,
   "id": "2d42ca66",
   "metadata": {},
   "outputs": [],
   "source": []
  },
  {
   "cell_type": "code",
   "execution_count": null,
   "id": "7594aa8b",
   "metadata": {},
   "outputs": [],
   "source": []
  }
 ],
 "metadata": {
  "kernelspec": {
   "display_name": "Python 3 (ipykernel)",
   "language": "python",
   "name": "python3"
  },
  "language_info": {
   "codemirror_mode": {
    "name": "ipython",
    "version": 3
   },
   "file_extension": ".py",
   "mimetype": "text/x-python",
   "name": "python",
   "nbconvert_exporter": "python",
   "pygments_lexer": "ipython3",
   "version": "3.9.7"
  }
 },
 "nbformat": 4,
 "nbformat_minor": 5
}
